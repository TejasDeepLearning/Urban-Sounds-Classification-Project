{
  "nbformat": 4,
  "nbformat_minor": 0,
  "metadata": {
    "colab": {
      "name": "Urban Sounds Audio Classification Project (Model Training and Testing).ipynb",
      "provenance": [],
      "collapsed_sections": [],
      "mount_file_id": "1o2bUxkfS1qnqyqSzicPH8MwpIKLkkfrr",
      "authorship_tag": "ABX9TyMo6ld8Uh7Q/k7WBN9KFtWC",
      "include_colab_link": true
    },
    "kernelspec": {
      "name": "python3",
      "display_name": "Python 3"
    },
    "language_info": {
      "name": "python"
    }
  },
  "cells": [
    {
      "cell_type": "markdown",
      "metadata": {
        "id": "view-in-github",
        "colab_type": "text"
      },
      "source": [
        "<a href=\"https://colab.research.google.com/github/Tj-dev-py/Urban-Sounds-Classification-Project/blob/main/Urban_Sounds_Audio_Classification_Project_(Model_Training_and_Testing).ipynb\" target=\"_parent\"><img src=\"https://colab.research.google.com/assets/colab-badge.svg\" alt=\"Open In Colab\"/></a>"
      ]
    },
    {
      "cell_type": "markdown",
      "metadata": {
        "id": "zBsundqgHWHO"
      },
      "source": [
        "## Load The Extracted Features From The Downloaded Pickle File"
      ]
    },
    {
      "cell_type": "code",
      "metadata": {
        "colab": {
          "base_uri": "https://localhost:8080/",
          "height": 221
        },
        "id": "LYX90AqkHKeh",
        "outputId": "740ec4da-810d-44ae-d287-9e9eab452322"
      },
      "source": [
        "import pandas as pd\n",
        "from IPython.display import display\n",
        "import numpy as np\n",
        "\n",
        "extracted_features_df = pd.read_pickle('/content/extracted_features.pkl')\n",
        "\n",
        "display(extracted_features_df.head(), extracted_features_df.shape)"
      ],
      "execution_count": 1,
      "outputs": [
        {
          "output_type": "display_data",
          "data": {
            "text/html": [
              "<div>\n",
              "<style scoped>\n",
              "    .dataframe tbody tr th:only-of-type {\n",
              "        vertical-align: middle;\n",
              "    }\n",
              "\n",
              "    .dataframe tbody tr th {\n",
              "        vertical-align: top;\n",
              "    }\n",
              "\n",
              "    .dataframe thead th {\n",
              "        text-align: right;\n",
              "    }\n",
              "</style>\n",
              "<table border=\"1\" class=\"dataframe\">\n",
              "  <thead>\n",
              "    <tr style=\"text-align: right;\">\n",
              "      <th></th>\n",
              "      <th>feature</th>\n",
              "      <th>class</th>\n",
              "    </tr>\n",
              "  </thead>\n",
              "  <tbody>\n",
              "    <tr>\n",
              "      <th>0</th>\n",
              "      <td>[-215.79301, 71.66612, -131.81377, -52.09133, ...</td>\n",
              "      <td>dog_bark</td>\n",
              "    </tr>\n",
              "    <tr>\n",
              "      <th>1</th>\n",
              "      <td>[-424.68677, 110.56227, -54.148235, 62.01074, ...</td>\n",
              "      <td>children_playing</td>\n",
              "    </tr>\n",
              "    <tr>\n",
              "      <th>2</th>\n",
              "      <td>[-459.56467, 122.800354, -47.92471, 53.265705,...</td>\n",
              "      <td>children_playing</td>\n",
              "    </tr>\n",
              "    <tr>\n",
              "      <th>3</th>\n",
              "      <td>[-414.55377, 102.896904, -36.66495, 54.18041, ...</td>\n",
              "      <td>children_playing</td>\n",
              "    </tr>\n",
              "    <tr>\n",
              "      <th>4</th>\n",
              "      <td>[-447.397, 115.0954, -53.809113, 61.60859, 1.6...</td>\n",
              "      <td>children_playing</td>\n",
              "    </tr>\n",
              "  </tbody>\n",
              "</table>\n",
              "</div>"
            ],
            "text/plain": [
              "                                             feature             class\n",
              "0  [-215.79301, 71.66612, -131.81377, -52.09133, ...          dog_bark\n",
              "1  [-424.68677, 110.56227, -54.148235, 62.01074, ...  children_playing\n",
              "2  [-459.56467, 122.800354, -47.92471, 53.265705,...  children_playing\n",
              "3  [-414.55377, 102.896904, -36.66495, 54.18041, ...  children_playing\n",
              "4  [-447.397, 115.0954, -53.809113, 61.60859, 1.6...  children_playing"
            ]
          },
          "metadata": {}
        },
        {
          "output_type": "display_data",
          "data": {
            "text/plain": [
              "(8732, 2)"
            ]
          },
          "metadata": {}
        }
      ]
    },
    {
      "cell_type": "code",
      "metadata": {
        "id": "H8iDcSqd03xT"
      },
      "source": [
        "# Splitting the dataset into independent and dependent variables\n",
        "X = np.array(extracted_features_df['feature'].tolist())\n",
        "y = np.array(extracted_features_df['class'].tolist())"
      ],
      "execution_count": 2,
      "outputs": []
    },
    {
      "cell_type": "code",
      "metadata": {
        "colab": {
          "base_uri": "https://localhost:8080/",
          "height": 1000
        },
        "id": "Ff-M_C4D3cfr",
        "outputId": "6c769112-e5d2-4dbf-ab07-d5e2b39cc17f"
      },
      "source": [
        "display(X[:5], X.shape, y[:5], y.shape)"
      ],
      "execution_count": 3,
      "outputs": [
        {
          "output_type": "display_data",
          "data": {
            "text/plain": [
              "array([[-2.15793015e+02,  7.16661224e+01, -1.31813766e+02,\n",
              "        -5.20913315e+01, -2.21159668e+01, -2.17641792e+01,\n",
              "        -1.11837482e+01,  1.89126835e+01,  6.72663832e+00,\n",
              "         1.45568933e+01, -1.17820463e+01,  2.30103683e+00,\n",
              "        -1.72513027e+01,  1.00524225e+01, -6.00949907e+00,\n",
              "        -1.31531930e+00, -1.76935101e+01,  1.11712241e+00,\n",
              "        -4.36994600e+00,  7.26295233e+00, -1.18159714e+01,\n",
              "        -7.49526167e+00,  5.45771265e+00, -2.94424438e+00,\n",
              "        -5.86938858e+00, -9.86536220e-02, -3.21217108e+00,\n",
              "         4.60925150e+00, -5.82932663e+00, -5.34750843e+00,\n",
              "         1.33411956e+00,  7.13078213e+00, -7.94499293e-02,\n",
              "         1.71092439e+00, -5.69420004e+00, -2.90417171e+00,\n",
              "         3.03669524e+00, -1.68275905e+00, -8.85858238e-01,\n",
              "         3.54388624e-01],\n",
              "       [-4.24686768e+02,  1.10562271e+02, -5.41482353e+01,\n",
              "         6.20107384e+01, -7.09515452e-01,  1.81573963e+01,\n",
              "         1.44515646e+00,  1.11611319e+01, -1.70589030e+00,\n",
              "         1.23604507e+01, -1.10554771e+01,  2.07365685e+01,\n",
              "        -8.96317291e+00,  1.28542862e+01,  6.18850946e-01,\n",
              "         6.23078537e+00, -2.01061678e+00,  1.02969513e+01,\n",
              "        -5.19044924e+00,  5.70753479e+00, -1.76152098e+00,\n",
              "         7.66227150e+00, -1.31334615e+00,  7.44551659e+00,\n",
              "        -7.62584448e-01,  4.96812046e-01, -3.71996713e+00,\n",
              "         6.46803796e-01, -5.64214325e+00,  4.48326945e-01,\n",
              "        -6.97359324e-01,  1.64160311e+00, -7.84569621e-01,\n",
              "        -4.12755981e-02,  3.95976380e-02, -9.44186971e-02,\n",
              "        -1.65680492e+00,  6.17408633e-01, -6.84974074e-01,\n",
              "         5.71514428e-01],\n",
              "       [-4.59564667e+02,  1.22800354e+02, -4.79247093e+01,\n",
              "         5.32657051e+01, -1.13986862e+00,  2.47723713e+01,\n",
              "         7.98013639e+00,  9.67425823e+00, -1.02354395e+00,\n",
              "         1.12044487e+01, -1.18449421e+01,  1.43469524e+01,\n",
              "        -3.51148438e+00,  1.14010563e+01, -3.67504656e-01,\n",
              "         6.43268776e+00, -6.60325861e+00,  3.28451872e+00,\n",
              "        -2.08006835e+00,  1.09049597e+01,  1.38384902e+00,\n",
              "         6.04806185e+00, -8.37760806e-01,  1.80902576e+00,\n",
              "        -2.65425372e+00,  1.58228719e+00, -1.59489727e+00,\n",
              "        -6.00140631e-01, -1.92130005e+00,  1.28997469e+00,\n",
              "         1.24426317e+00, -1.45356560e+00, -3.94021869e+00,\n",
              "        -2.18472099e+00, -1.45620692e+00, -1.69737124e+00,\n",
              "        -1.49213314e+00,  2.22541404e+00,  1.54661798e+00,\n",
              "        -8.36315691e-01],\n",
              "       [-4.14553772e+02,  1.02896904e+02, -3.66649513e+01,\n",
              "         5.41804085e+01,  4.86003548e-01,  1.56970596e+01,\n",
              "         2.15512919e+00,  8.10421944e+00, -2.48782182e+00,\n",
              "         1.00181017e+01, -1.25278091e+01,  2.14918461e+01,\n",
              "        -6.18940783e+00,  1.29999857e+01, -4.84780359e+00,\n",
              "         4.28755093e+00, -7.96469688e-01,  7.82784891e+00,\n",
              "        -8.20082366e-01,  6.02836323e+00, -6.10386562e+00,\n",
              "         6.07919312e+00, -6.03233099e+00,  3.73553085e+00,\n",
              "        -2.97397566e+00,  7.29107797e-01, -3.97988629e+00,\n",
              "         3.85421664e-01, -4.32916880e+00, -1.42666268e+00,\n",
              "        -4.76523304e+00,  9.25127506e-01,  1.11020243e+00,\n",
              "         8.69380116e-01, -2.22698665e+00,  1.07661724e+00,\n",
              "        -1.41640747e+00, -1.24488878e+00, -2.17944288e+00,\n",
              "        -1.07717752e+00],\n",
              "       [-4.47397003e+02,  1.15095398e+02, -5.38091125e+01,\n",
              "         6.16085892e+01,  1.64259768e+00,  2.61128635e+01,\n",
              "         1.99506688e+00,  1.07390718e+01,  2.59629965e+00,\n",
              "         1.06359844e+01, -1.47325716e+01,  1.72388000e+01,\n",
              "        -4.05125904e+00,  1.02570000e+01,  1.64704680e+00,\n",
              "         9.68666458e+00, -5.94668579e+00,  5.19548321e+00,\n",
              "        -7.32175493e+00,  1.15191393e+01,  3.38942349e-01,\n",
              "         5.63253498e+00, -1.51092005e+00,  4.01716948e+00,\n",
              "        -2.92805696e+00,  1.96119201e+00, -1.60960925e+00,\n",
              "         4.49101496e+00, -7.18865454e-01, -3.39033961e-01,\n",
              "        -2.40165138e+00, -1.48841298e+00, -2.28908733e-01,\n",
              "         1.70549798e+00, -2.04143763e+00,  6.17622435e-02,\n",
              "        -7.78468668e-01,  2.19259524e+00,  1.00515425e+00,\n",
              "         1.91029191e-01]], dtype=float32)"
            ]
          },
          "metadata": {}
        },
        {
          "output_type": "display_data",
          "data": {
            "text/plain": [
              "(8732, 40)"
            ]
          },
          "metadata": {}
        },
        {
          "output_type": "display_data",
          "data": {
            "text/plain": [
              "array(['dog_bark', 'children_playing', 'children_playing',\n",
              "       'children_playing', 'children_playing'], dtype='<U16')"
            ]
          },
          "metadata": {}
        },
        {
          "output_type": "display_data",
          "data": {
            "text/plain": [
              "(8732,)"
            ]
          },
          "metadata": {}
        }
      ]
    },
    {
      "cell_type": "markdown",
      "metadata": {
        "id": "6tSVbioj8qnv"
      },
      "source": [
        "## Seperate target from predictors"
      ]
    },
    {
      "cell_type": "code",
      "metadata": {
        "id": "Q6fX2VjZ4EYm"
      },
      "source": [
        "# Label encoding\n",
        "y = np.array(pd.get_dummies(y))"
      ],
      "execution_count": 4,
      "outputs": []
    },
    {
      "cell_type": "code",
      "metadata": {
        "colab": {
          "base_uri": "https://localhost:8080/"
        },
        "id": "0cbFjokP4brL",
        "outputId": "dd087717-fea0-4aeb-eee6-a0ecda32073e"
      },
      "source": [
        "X.shape, y.shape"
      ],
      "execution_count": 5,
      "outputs": [
        {
          "output_type": "execute_result",
          "data": {
            "text/plain": [
              "((8732, 40), (8732, 10))"
            ]
          },
          "metadata": {},
          "execution_count": 5
        }
      ]
    },
    {
      "cell_type": "markdown",
      "metadata": {
        "id": "7e4ALdPV8wST"
      },
      "source": [
        "## Split into train and test sets"
      ]
    },
    {
      "cell_type": "code",
      "metadata": {
        "id": "J-rK8wk83iWL"
      },
      "source": [
        "# Train Test Split\n",
        "from sklearn.model_selection import train_test_split\n",
        "X_train,X_test,y_train,y_test=train_test_split(X,y,test_size=0.2,random_state=0)"
      ],
      "execution_count": 6,
      "outputs": []
    },
    {
      "cell_type": "code",
      "metadata": {
        "colab": {
          "base_uri": "https://localhost:8080/",
          "height": 85
        },
        "id": "ApiD2Cvv4mMo",
        "outputId": "48cb9016-22e7-45dc-9c24-497f806a5e0b"
      },
      "source": [
        "display(X_train.shape, X_test.shape, y_train.shape, y_test.shape)"
      ],
      "execution_count": 7,
      "outputs": [
        {
          "output_type": "display_data",
          "data": {
            "text/plain": [
              "(6985, 40)"
            ]
          },
          "metadata": {}
        },
        {
          "output_type": "display_data",
          "data": {
            "text/plain": [
              "(1747, 40)"
            ]
          },
          "metadata": {}
        },
        {
          "output_type": "display_data",
          "data": {
            "text/plain": [
              "(6985, 10)"
            ]
          },
          "metadata": {}
        },
        {
          "output_type": "display_data",
          "data": {
            "text/plain": [
              "(1747, 10)"
            ]
          },
          "metadata": {}
        }
      ]
    },
    {
      "cell_type": "code",
      "metadata": {
        "colab": {
          "base_uri": "https://localhost:8080/"
        },
        "id": "p2Qme0-a4rp8",
        "outputId": "2ab274d9-0f99-4b4b-ae07-9cb551f19b2c"
      },
      "source": [
        "y[1]"
      ],
      "execution_count": 8,
      "outputs": [
        {
          "output_type": "execute_result",
          "data": {
            "text/plain": [
              "array([0, 0, 1, 0, 0, 0, 0, 0, 0, 0], dtype=uint8)"
            ]
          },
          "metadata": {},
          "execution_count": 8
        }
      ]
    },
    {
      "cell_type": "markdown",
      "metadata": {
        "id": "5iYPab3d47Q3"
      },
      "source": [
        "When we encode our label 'y', we get individual arrays for each observation which are encoded in binary, indicating to which class that specific sound file belongs to. Here's an example:\n",
        "\n",
        "\n",
        "\n",
        "```\n",
        ">>> y[1]\n",
        "array([0, 0, 1, 0, 0, 0, 0, 0, 0, 0], dtype=uint8)\n",
        "```\n",
        "\n",
        "We can see that the second example in our dataset belongs to the third class, which is ***children playing***\n"
      ]
    },
    {
      "cell_type": "markdown",
      "metadata": {
        "id": "2Rz1TwGi82gt"
      },
      "source": [
        "## Model Creation\n",
        "\n",
        "We're going to use a Deep Neural Network with Dense Layers to parse the information received by the model. "
      ]
    },
    {
      "cell_type": "code",
      "metadata": {
        "id": "v4OJSl6l52aV",
        "colab": {
          "base_uri": "https://localhost:8080/"
        },
        "outputId": "ef54f478-0353-4a14-a55b-85b80560fa03"
      },
      "source": [
        "import tensorflow as tf\n",
        "print(tf.__version__)"
      ],
      "execution_count": 9,
      "outputs": [
        {
          "output_type": "stream",
          "name": "stdout",
          "text": [
            "2.7.0\n"
          ]
        }
      ]
    },
    {
      "cell_type": "code",
      "metadata": {
        "id": "7x4YWO3y9FFx"
      },
      "source": [
        "# import libraries\n",
        "from tensorflow.keras.models import Sequential\n",
        "from tensorflow.keras.layers import Dense, Dropout, Activation, Flatten\n",
        "from tensorflow.keras import regularizers\n",
        "from sklearn import metrics"
      ],
      "execution_count": 10,
      "outputs": []
    },
    {
      "cell_type": "code",
      "metadata": {
        "id": "P9M4zu8t9uxi"
      },
      "source": [
        "# Number of classes\n",
        "num_labels = y.shape[1]"
      ],
      "execution_count": 11,
      "outputs": []
    },
    {
      "cell_type": "code",
      "metadata": {
        "colab": {
          "base_uri": "https://localhost:8080/"
        },
        "id": "W1He4Lbo98zQ",
        "outputId": "058fc2ed-f365-4ef9-c31f-6a07ca2690be"
      },
      "source": [
        "num_labels"
      ],
      "execution_count": 12,
      "outputs": [
        {
          "output_type": "execute_result",
          "data": {
            "text/plain": [
              "10"
            ]
          },
          "metadata": {},
          "execution_count": 12
        }
      ]
    },
    {
      "cell_type": "code",
      "metadata": {
        "id": "yRAGdL11-t9R"
      },
      "source": [
        "# setting a callback\n",
        "from tensorflow.keras.callbacks import EarlyStopping\n",
        "\n",
        "early_stopping = EarlyStopping(\n",
        "    \n",
        "    monitor=\"val_loss\",\n",
        "    min_delta=0.01,\n",
        "    patience=2,\n",
        "    verbose=1,\n",
        "    mode=\"auto\",\n",
        "    baseline=None,\n",
        "    restore_best_weights=False,\n",
        "\n",
        ")"
      ],
      "execution_count": 13,
      "outputs": []
    },
    {
      "cell_type": "code",
      "metadata": {
        "id": "GIK-zH5c-VrE"
      },
      "source": [
        "# Creating the neural network\n",
        "model = Sequential([\n",
        "                    # First layer\n",
        "                    Dense(220, input_shape=(40, ), activation='relu', kernel_regularizer=regularizers.l2(0.0001)),\n",
        "                    Dropout(.5),\n",
        "\n",
        "                    # Second layer\n",
        "                    Dense(500, activation='relu', kernel_regularizer=regularizers.l2(0.0001)),\n",
        "                    Dropout(.5),\n",
        "\n",
        "                    # Final Layer\n",
        "                    Dense(num_labels, activation='softmax')\n",
        "])"
      ],
      "execution_count": 14,
      "outputs": []
    },
    {
      "cell_type": "code",
      "metadata": {
        "colab": {
          "base_uri": "https://localhost:8080/"
        },
        "id": "F0E6xRyZBKmo",
        "outputId": "bce50bcc-b21e-41c4-f323-5ce0a8861b66"
      },
      "source": [
        "# Model's summary\n",
        "model.summary()"
      ],
      "execution_count": 15,
      "outputs": [
        {
          "output_type": "stream",
          "name": "stdout",
          "text": [
            "Model: \"sequential\"\n",
            "_________________________________________________________________\n",
            " Layer (type)                Output Shape              Param #   \n",
            "=================================================================\n",
            " dense (Dense)               (None, 220)               9020      \n",
            "                                                                 \n",
            " dropout (Dropout)           (None, 220)               0         \n",
            "                                                                 \n",
            " dense_1 (Dense)             (None, 500)               110500    \n",
            "                                                                 \n",
            " dropout_1 (Dropout)         (None, 500)               0         \n",
            "                                                                 \n",
            " dense_2 (Dense)             (None, 10)                5010      \n",
            "                                                                 \n",
            "=================================================================\n",
            "Total params: 124,530\n",
            "Trainable params: 124,530\n",
            "Non-trainable params: 0\n",
            "_________________________________________________________________\n"
          ]
        }
      ]
    },
    {
      "cell_type": "code",
      "metadata": {
        "colab": {
          "base_uri": "https://localhost:8080/",
          "height": 564
        },
        "id": "VmRneUsrBLfM",
        "outputId": "7a548281-ef3f-470b-abcc-a55277128546"
      },
      "source": [
        "# Plot a diagram of the model\n",
        "tf.keras.utils.plot_model(model)"
      ],
      "execution_count": 16,
      "outputs": [
        {
          "output_type": "execute_result",
          "data": {
            "image/png": "[encoded data removed]",
            "text/plain": [
              "<IPython.core.display.Image object>"
            ]
          },
          "metadata": {},
          "execution_count": 16
        }
      ]
    },
    {
      "cell_type": "code",
      "metadata": {
        "id": "CujqBGx4BSgZ"
      },
      "source": [
        "# compiling the model\n",
        "\n",
        "model.compile(loss='categorical_crossentropy', metrics=['accuracy'], optimizer='adam')"
      ],
      "execution_count": 17,
      "outputs": []
    },
    {
      "cell_type": "markdown",
      "metadata": {
        "id": "A6iy9mYyGVyF"
      },
      "source": [
        "## Training the model"
      ]
    },
    {
      "cell_type": "code",
      "metadata": {
        "colab": {
          "base_uri": "https://localhost:8080/"
        },
        "id": "WcxE61mfB7hv",
        "outputId": "23159a59-323b-4719-a318-ca80226aa75e"
      },
      "source": [
        "num_epochs = 100\n",
        "num_batch_size = 32\n",
        "\n",
        "history = model.fit(X_train, y_train,\n",
        "          batch_size=num_batch_size,\n",
        "          epochs=num_epochs,\n",
        "          validation_data=(X_test, y_test),\n",
        "          callbacks=[early_stopping]\n",
        "          )"
      ],
      "execution_count": 18,
      "outputs": [
        {
          "output_type": "stream",
          "name": "stdout",
          "text": [
            "Epoch 1/100\n",
            "219/219 [==============================] - 2s 6ms/step - loss: 9.0061 - accuracy: 0.2407 - val_loss: 1.9732 - val_accuracy: 0.3486\n",
            "Epoch 2/100\n",
            "219/219 [==============================] - 1s 5ms/step - loss: 2.1650 - accuracy: 0.3092 - val_loss: 1.8422 - val_accuracy: 0.4253\n",
            "Epoch 3/100\n",
            "219/219 [==============================] - 1s 5ms/step - loss: 1.8317 - accuracy: 0.3734 - val_loss: 1.6428 - val_accuracy: 0.4837\n",
            "Epoch 4/100\n",
            "219/219 [==============================] - 1s 5ms/step - loss: 1.6567 - accuracy: 0.4374 - val_loss: 1.4846 - val_accuracy: 0.5495\n",
            "Epoch 5/100\n",
            "219/219 [==============================] - 1s 5ms/step - loss: 1.5333 - accuracy: 0.4764 - val_loss: 1.3245 - val_accuracy: 0.6125\n",
            "Epoch 6/100\n",
            "219/219 [==============================] - 1s 5ms/step - loss: 1.4192 - accuracy: 0.5330 - val_loss: 1.2342 - val_accuracy: 0.6239\n",
            "Epoch 7/100\n",
            "219/219 [==============================] - 1s 5ms/step - loss: 1.3558 - accuracy: 0.5506 - val_loss: 1.1694 - val_accuracy: 0.6691\n",
            "Epoch 8/100\n",
            "219/219 [==============================] - 1s 5ms/step - loss: 1.2705 - accuracy: 0.5755 - val_loss: 1.0759 - val_accuracy: 0.6966\n",
            "Epoch 9/100\n",
            "219/219 [==============================] - 1s 5ms/step - loss: 1.2206 - accuracy: 0.5937 - val_loss: 1.0220 - val_accuracy: 0.7092\n",
            "Epoch 10/100\n",
            "219/219 [==============================] - 1s 5ms/step - loss: 1.1437 - accuracy: 0.6245 - val_loss: 0.9542 - val_accuracy: 0.7281\n",
            "Epoch 11/100\n",
            "219/219 [==============================] - 1s 5ms/step - loss: 1.0959 - accuracy: 0.6427 - val_loss: 0.9176 - val_accuracy: 0.7304\n",
            "Epoch 12/100\n",
            "219/219 [==============================] - 1s 5ms/step - loss: 1.0844 - accuracy: 0.6481 - val_loss: 0.8903 - val_accuracy: 0.7270\n",
            "Epoch 13/100\n",
            "219/219 [==============================] - 1s 5ms/step - loss: 1.0386 - accuracy: 0.6593 - val_loss: 0.8747 - val_accuracy: 0.7464\n",
            "Epoch 14/100\n",
            "219/219 [==============================] - 1s 5ms/step - loss: 1.0002 - accuracy: 0.6743 - val_loss: 0.8404 - val_accuracy: 0.7659\n",
            "Epoch 15/100\n",
            "219/219 [==============================] - 1s 5ms/step - loss: 0.9957 - accuracy: 0.6759 - val_loss: 0.8138 - val_accuracy: 0.7773\n",
            "Epoch 16/100\n",
            "219/219 [==============================] - 1s 6ms/step - loss: 0.9519 - accuracy: 0.6901 - val_loss: 0.7820 - val_accuracy: 0.7556\n",
            "Epoch 17/100\n",
            "219/219 [==============================] - 1s 5ms/step - loss: 0.9446 - accuracy: 0.6919 - val_loss: 0.7813 - val_accuracy: 0.7750\n",
            "Epoch 18/100\n",
            "219/219 [==============================] - 1s 5ms/step - loss: 0.9121 - accuracy: 0.7091 - val_loss: 0.7586 - val_accuracy: 0.7853\n",
            "Epoch 19/100\n",
            "219/219 [==============================] - 1s 5ms/step - loss: 0.9061 - accuracy: 0.7084 - val_loss: 0.7282 - val_accuracy: 0.7962\n",
            "Epoch 20/100\n",
            "219/219 [==============================] - 1s 5ms/step - loss: 0.8641 - accuracy: 0.7286 - val_loss: 0.6996 - val_accuracy: 0.7968\n",
            "Epoch 21/100\n",
            "219/219 [==============================] - 1s 5ms/step - loss: 0.8726 - accuracy: 0.7191 - val_loss: 0.6713 - val_accuracy: 0.8111\n",
            "Epoch 22/100\n",
            "219/219 [==============================] - 1s 5ms/step - loss: 0.8465 - accuracy: 0.7336 - val_loss: 0.6743 - val_accuracy: 0.8151\n",
            "Epoch 23/100\n",
            "219/219 [==============================] - 1s 5ms/step - loss: 0.8383 - accuracy: 0.7306 - val_loss: 0.7086 - val_accuracy: 0.7945\n",
            "Epoch 00023: early stopping\n"
          ]
        }
      ]
    },
    {
      "cell_type": "markdown",
      "metadata": {
        "id": "8J4l0d6HHOzt"
      },
      "source": [
        "## Saving the model"
      ]
    },
    {
      "cell_type": "code",
      "metadata": {
        "id": "IY4HxaRXHOC2"
      },
      "source": [
        "tf.keras.models.save_model(model,'urban_classification_model.hdf5')"
      ],
      "execution_count": 20,
      "outputs": []
    },
    {
      "cell_type": "markdown",
      "metadata": {
        "id": "9rT4j5DdGZIl"
      },
      "source": [
        "## Testing the model\n",
        "\n",
        "Here we evaluate the model using tensorflow's evaluate method."
      ]
    },
    {
      "cell_type": "code",
      "metadata": {
        "colab": {
          "base_uri": "https://localhost:8080/"
        },
        "id": "yeGXZvjqDofy",
        "outputId": "041a786a-a802-4984-e2a3-9174c2bf73ee"
      },
      "source": [
        "test_accuracy = model.evaluate(X_test, y_test)\n",
        "print(test_accuracy)"
      ],
      "execution_count": 19,
      "outputs": [
        {
          "output_type": "stream",
          "name": "stdout",
          "text": [
            "55/55 [==============================] - 0s 2ms/step - loss: 0.7086 - accuracy: 0.7945\n",
            "[0.7085679173469543, 0.7945048809051514]\n"
          ]
        }
      ]
    },
    {
      "cell_type": "markdown",
      "metadata": {
        "id": "cm1ma3MbGfai"
      },
      "source": [
        "And here, we can see the model classifying a sample audio file in real time."
      ]
    },
    {
      "cell_type": "code",
      "metadata": {
        "id": "PQQ4Up47GAye"
      },
      "source": [
        "filename = '/content/drive/MyDrive/UrbanSound8K/audio/fold7/105289-8-1-3.wav'\n",
        "\n",
        "import librosa\n",
        "\n",
        "def feature_extractor(file):\n",
        "  audio, sample_rate = librosa.load(file, res_type='kaiser_fast')\n",
        "  mfccs_features = librosa.feature.mfcc(y=audio, sr=sample_rate, n_mfcc=40)\n",
        "  mfccs_scaled_features = np.mean(mfccs_features.T, axis=0)\n",
        "\n",
        "  return mfccs_scaled_features"
      ],
      "execution_count": 21,
      "outputs": []
    },
    {
      "cell_type": "code",
      "metadata": {
        "id": "XCxaSHKrIHan"
      },
      "source": [
        "prediction_feature = feature_extractor(filename)"
      ],
      "execution_count": 22,
      "outputs": []
    },
    {
      "cell_type": "markdown",
      "metadata": {
        "id": "pSDdhx8NIlaZ"
      },
      "source": [
        "our prediction feature needs to be reshaped in the form of (1, 40) in order to work with our model. "
      ]
    },
    {
      "cell_type": "code",
      "metadata": {
        "colab": {
          "base_uri": "https://localhost:8080/"
        },
        "id": "UYm3ENx_Iu-s",
        "outputId": "b52f3f5b-a9a8-45b3-d35e-da1bf256f8cf"
      },
      "source": [
        "# before reshaping\n",
        "prediction_feature.shape"
      ],
      "execution_count": 23,
      "outputs": [
        {
          "output_type": "execute_result",
          "data": {
            "text/plain": [
              "(40,)"
            ]
          },
          "metadata": {},
          "execution_count": 23
        }
      ]
    },
    {
      "cell_type": "code",
      "metadata": {
        "colab": {
          "base_uri": "https://localhost:8080/"
        },
        "id": "9KEoe3BjIww9",
        "outputId": "5cbbc773-793b-4580-aa53-0fe1079cde47"
      },
      "source": [
        "# after reshaping\n",
        "prediction_feature.reshape(1, -1).shape"
      ],
      "execution_count": 24,
      "outputs": [
        {
          "output_type": "execute_result",
          "data": {
            "text/plain": [
              "(1, 40)"
            ]
          },
          "metadata": {},
          "execution_count": 24
        }
      ]
    },
    {
      "cell_type": "code",
      "metadata": {
        "id": "2gkGpbR9I4oo"
      },
      "source": [
        "prediction_feature = prediction_feature.reshape(1, -1)"
      ],
      "execution_count": 25,
      "outputs": []
    },
    {
      "cell_type": "code",
      "metadata": {
        "colab": {
          "base_uri": "https://localhost:8080/"
        },
        "id": "al9wYW22IQ-K",
        "outputId": "85db62d0-7a55-4964-eee7-c7146eba15c1"
      },
      "source": [
        "np.argmax(model.predict(prediction_feature), axis=-1)"
      ],
      "execution_count": 27,
      "outputs": [
        {
          "output_type": "execute_result",
          "data": {
            "text/plain": [
              "array([8])"
            ]
          },
          "metadata": {},
          "execution_count": 27
        }
      ]
    },
    {
      "cell_type": "markdown",
      "metadata": {
        "id": "0c2jbs9gJUpv"
      },
      "source": [
        "Looks like our model calssified this audio file as a 'Siren', belonging to class 8. \n",
        "\n",
        "Let's use the metadata to see if our model was accurate in its prediction."
      ]
    },
    {
      "cell_type": "code",
      "metadata": {
        "colab": {
          "base_uri": "https://localhost:8080/",
          "height": 204
        },
        "id": "21F0cn8LJPZJ",
        "outputId": "b449034f-73cc-486e-e1c8-93f315bf7fc2"
      },
      "source": [
        "metadata = pd.read_csv('/content/drive/MyDrive/UrbanSound8K/metadata/UrbanSound8K.csv')\n",
        "metadata.head()"
      ],
      "execution_count": 28,
      "outputs": [
        {
          "output_type": "execute_result",
          "data": {
            "text/html": [
              "<div>\n",
              "<style scoped>\n",
              "    .dataframe tbody tr th:only-of-type {\n",
              "        vertical-align: middle;\n",
              "    }\n",
              "\n",
              "    .dataframe tbody tr th {\n",
              "        vertical-align: top;\n",
              "    }\n",
              "\n",
              "    .dataframe thead th {\n",
              "        text-align: right;\n",
              "    }\n",
              "</style>\n",
              "<table border=\"1\" class=\"dataframe\">\n",
              "  <thead>\n",
              "    <tr style=\"text-align: right;\">\n",
              "      <th></th>\n",
              "      <th>slice_file_name</th>\n",
              "      <th>fsID</th>\n",
              "      <th>start</th>\n",
              "      <th>end</th>\n",
              "      <th>salience</th>\n",
              "      <th>fold</th>\n",
              "      <th>classID</th>\n",
              "      <th>class</th>\n",
              "    </tr>\n",
              "  </thead>\n",
              "  <tbody>\n",
              "    <tr>\n",
              "      <th>0</th>\n",
              "      <td>100032-3-0-0.wav</td>\n",
              "      <td>100032</td>\n",
              "      <td>0.0</td>\n",
              "      <td>0.317551</td>\n",
              "      <td>1</td>\n",
              "      <td>5</td>\n",
              "      <td>3</td>\n",
              "      <td>dog_bark</td>\n",
              "    </tr>\n",
              "    <tr>\n",
              "      <th>1</th>\n",
              "      <td>100263-2-0-117.wav</td>\n",
              "      <td>100263</td>\n",
              "      <td>58.5</td>\n",
              "      <td>62.500000</td>\n",
              "      <td>1</td>\n",
              "      <td>5</td>\n",
              "      <td>2</td>\n",
              "      <td>children_playing</td>\n",
              "    </tr>\n",
              "    <tr>\n",
              "      <th>2</th>\n",
              "      <td>100263-2-0-121.wav</td>\n",
              "      <td>100263</td>\n",
              "      <td>60.5</td>\n",
              "      <td>64.500000</td>\n",
              "      <td>1</td>\n",
              "      <td>5</td>\n",
              "      <td>2</td>\n",
              "      <td>children_playing</td>\n",
              "    </tr>\n",
              "    <tr>\n",
              "      <th>3</th>\n",
              "      <td>100263-2-0-126.wav</td>\n",
              "      <td>100263</td>\n",
              "      <td>63.0</td>\n",
              "      <td>67.000000</td>\n",
              "      <td>1</td>\n",
              "      <td>5</td>\n",
              "      <td>2</td>\n",
              "      <td>children_playing</td>\n",
              "    </tr>\n",
              "    <tr>\n",
              "      <th>4</th>\n",
              "      <td>100263-2-0-137.wav</td>\n",
              "      <td>100263</td>\n",
              "      <td>68.5</td>\n",
              "      <td>72.500000</td>\n",
              "      <td>1</td>\n",
              "      <td>5</td>\n",
              "      <td>2</td>\n",
              "      <td>children_playing</td>\n",
              "    </tr>\n",
              "  </tbody>\n",
              "</table>\n",
              "</div>"
            ],
            "text/plain": [
              "      slice_file_name    fsID  start  ...  fold  classID             class\n",
              "0    100032-3-0-0.wav  100032    0.0  ...     5        3          dog_bark\n",
              "1  100263-2-0-117.wav  100263   58.5  ...     5        2  children_playing\n",
              "2  100263-2-0-121.wav  100263   60.5  ...     5        2  children_playing\n",
              "3  100263-2-0-126.wav  100263   63.0  ...     5        2  children_playing\n",
              "4  100263-2-0-137.wav  100263   68.5  ...     5        2  children_playing\n",
              "\n",
              "[5 rows x 8 columns]"
            ]
          },
          "metadata": {},
          "execution_count": 28
        }
      ]
    },
    {
      "cell_type": "code",
      "metadata": {
        "colab": {
          "base_uri": "https://localhost:8080/",
          "height": 80
        },
        "id": "iJMKAHrfJ4gk",
        "outputId": "8a761f46-1016-44a2-9d26-7e9baf2f8567"
      },
      "source": [
        "# Looking at the row which contains the information of our filename\n",
        "\n",
        "metadata[metadata.slice_file_name == '105289-8-1-3.wav']"
      ],
      "execution_count": 31,
      "outputs": [
        {
          "output_type": "execute_result",
          "data": {
            "text/html": [
              "<div>\n",
              "<style scoped>\n",
              "    .dataframe tbody tr th:only-of-type {\n",
              "        vertical-align: middle;\n",
              "    }\n",
              "\n",
              "    .dataframe tbody tr th {\n",
              "        vertical-align: top;\n",
              "    }\n",
              "\n",
              "    .dataframe thead th {\n",
              "        text-align: right;\n",
              "    }\n",
              "</style>\n",
              "<table border=\"1\" class=\"dataframe\">\n",
              "  <thead>\n",
              "    <tr style=\"text-align: right;\">\n",
              "      <th></th>\n",
              "      <th>slice_file_name</th>\n",
              "      <th>fsID</th>\n",
              "      <th>start</th>\n",
              "      <th>end</th>\n",
              "      <th>salience</th>\n",
              "      <th>fold</th>\n",
              "      <th>classID</th>\n",
              "      <th>class</th>\n",
              "    </tr>\n",
              "  </thead>\n",
              "  <tbody>\n",
              "    <tr>\n",
              "      <th>430</th>\n",
              "      <td>105289-8-1-3.wav</td>\n",
              "      <td>105289</td>\n",
              "      <td>41.926771</td>\n",
              "      <td>45.926771</td>\n",
              "      <td>1</td>\n",
              "      <td>7</td>\n",
              "      <td>8</td>\n",
              "      <td>siren</td>\n",
              "    </tr>\n",
              "  </tbody>\n",
              "</table>\n",
              "</div>"
            ],
            "text/plain": [
              "      slice_file_name    fsID      start  ...  fold  classID  class\n",
              "430  105289-8-1-3.wav  105289  41.926771  ...     7        8  siren\n",
              "\n",
              "[1 rows x 8 columns]"
            ]
          },
          "metadata": {},
          "execution_count": 31
        }
      ]
    },
    {
      "cell_type": "markdown",
      "metadata": {
        "id": "LvODjhjIKMRl"
      },
      "source": [
        "**Lo and Behold, our model was accurate in its prediction!**\n",
        "\n",
        "Looks like this model performs pretty good. This also marks the end of this audio classification project. "
      ]
    },
    {
      "cell_type": "code",
      "metadata": {
        "id": "gJ3g2-eKKW3l"
      },
      "source": [
        ""
      ],
      "execution_count": null,
      "outputs": []
    }
  ]
}